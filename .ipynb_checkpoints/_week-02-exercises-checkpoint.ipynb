{
 "cells": [
  {
   "cell_type": "markdown",
   "id": "48ec4df2",
   "metadata": {},
   "source": [
    "<h1><center> PPOL 5203 Data Science I: Foundations <br><br> \n",
    "<font color='grey'>Week 2: Practice Exercise<br><br>\n",
    "Tiago Ventura</center></center> <h1> \n"
   ]
  },
  {
   "cell_type": "markdown",
   "id": "f5d70a9f",
   "metadata": {},
   "source": [
    "### Question 1: Writing good code!\n",
    "\n",
    "Consider the Python snippet below that simulates some data, runs a linear regression on the simulated data, and plots the predictors of the regression. \n",
    "\n",
    "This is a poorly written code. It has the following issues: \n",
    "\n",
    "- No comments documenting what the code is doing\n",
    "- Poor redability\n",
    "- Graphs with no meaning\n",
    "- lines of code doing multiple things (you could split it up and make it more readable). \n",
    "\n",
    "As an exercise, provide a refactored code as the solution to this problem. You solution needs to fix all the issues mentioned above. Check the slides if you need help. \n",
    "\n"
   ]
  },
  {
   "cell_type": "code",
   "execution_count": 18,
   "id": "b1f25e0c",
   "metadata": {},
   "outputs": [
    {
     "data": {
      "text/plain": [
       "<matplotlib.collections.PathCollection at 0x127e6dc50>"
      ]
     },
     "execution_count": 18,
     "metadata": {},
     "output_type": "execute_result"
    },
    {
     "data": {
      "image/png": "[encoded data removed]",
      "text/plain": [
       "<Figure size 640x480 with 1 Axes>"
      ]
     },
     "metadata": {},
     "output_type": "display_data"
    }
   ],
   "source": [
    "import numpy as np\n",
    "import matplotlib.pyplot as plt\n",
    "\n",
    "a = np.random.rand(100)\n",
    "b = 5 + 3*X1 + np.random.normal(size=100)\n",
    "plt.scatter(a, b, color = 'red')"
   ]
  },
  {
   "cell_type": "code",
   "execution_count": 19,
   "id": "c357cd06",
   "metadata": {},
   "outputs": [],
   "source": [
    "# ADD YOUR RESPONSE HERE dcwen2enl12i"
   ]
  },
  {
   "cell_type": "markdown",
   "id": "5ca7a04a",
   "metadata": {},
   "source": [
    "\n",
    "### Question 2: Initialize version control with git. \n",
    "\n",
    "Create a folder called “Practice” on your local computer. Use the commandline to navigate to that folder. Next, initialize a git repository in that folder. Do all these steps using the commandline"
   ]
  },
  {
   "cell_type": "code",
   "execution_count": null,
   "id": "59d34a56",
   "metadata": {},
   "outputs": [],
   "source": [
    "# ADD YOUR CODE (from Commandline) and Describe your steps HERE"
   ]
  },
  {
   "cell_type": "markdown",
   "id": "20da956a",
   "metadata": {},
   "source": [
    "### Question 3: Git \n",
    "\n",
    "Using the git repository that you created in Question 1. Do the following: \n",
    "\n",
    "1. Create a `.txt` named `notes_about_ds5203` using either the commandline or just make this file yourself and move to the folder. \n",
    "\n",
    "2. Add that file to the staging area.\n",
    "\n",
    "3. Commit that file with a clear commit message\n",
    "\n",
    "4. Check to see if the file is staged using git status;\n",
    "\n",
    "5. Now update the file (i.e., make some change to it) and stage and commit that change;\n",
    "\n",
    "6. Look at your git log to see the two commits you made."
   ]
  },
  {
   "cell_type": "code",
   "execution_count": null,
   "id": "71f6f459",
   "metadata": {},
   "outputs": [],
   "source": [
    "# ADD YOUR CODE (from Commandline) and Describe your steps HERE"
   ]
  },
  {
   "cell_type": "markdown",
   "id": "53368e4d",
   "metadata": {},
   "source": [
    "### Question 3: Github\n",
    "\n",
    "1. Create a new repository on your own Github account\n",
    "\n",
    "2. Clone the repository at your local machine\n",
    "\n",
    "3. Make some changes in your local machine\n",
    "\n",
    "4. Push your local changes to your github repository"
   ]
  },
  {
   "cell_type": "code",
   "execution_count": null,
   "id": "e283ba17",
   "metadata": {},
   "outputs": [],
   "source": [
    "# ADD YOUR CODE (from Commandline) and Describe your steps HERE"
   ]
  },
  {
   "cell_type": "code",
   "execution_count": 1,
   "id": "da59cc9b",
   "metadata": {},
   "outputs": [
    {
     "name": "stdout",
     "output_type": "stream",
     "text": [
      "[NbConvertApp] Converting notebook _week-02-exercises.ipynb to html\n",
      "[NbConvertApp] Writing 295722 bytes to _week-02-exercises.html\n"
     ]
    }
   ],
   "source": [
    "# dont care about this!\n",
    "#!jupyter nbconvert _week-02-exercises.ipynb --to html --template classic\n"
   ]
  }
 ],
 "metadata": {
  "kernelspec": {
   "display_name": "Python 3 (ipykernel)",
   "language": "python",
   "name": "python3"
  },
  "language_info": {
   "codemirror_mode": {
    "name": "ipython",
    "version": 3
   },
   "file_extension": ".py",
   "mimetype": "text/x-python",
   "name": "python",
   "nbconvert_exporter": "python",
   "pygments_lexer": "ipython3",
   "version": "3.9.6"
  }
 },
 "nbformat": 4,
 "nbformat_minor": 5
}
